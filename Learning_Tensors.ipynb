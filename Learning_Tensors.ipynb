{
  "nbformat": 4,
  "nbformat_minor": 0,
  "metadata": {
    "colab": {
      "provenance": [],
      "gpuType": "T4"
    },
    "kernelspec": {
      "name": "python3",
      "display_name": "Python 3"
    },
    "language_info": {
      "name": "python"
    },
    "accelerator": "GPU"
  },
  "cells": [
    {
      "cell_type": "code",
      "execution_count": 1,
      "metadata": {
        "colab": {
          "base_uri": "https://localhost:8080/"
        },
        "id": "AbUpXAlgmeJl",
        "outputId": "bea44bfa-019b-4ecd-a384-64d4c259dfbb"
      },
      "outputs": [
        {
          "output_type": "stream",
          "name": "stdout",
          "text": [
            "2.8.0+cu126\n"
          ]
        }
      ],
      "source": [
        "import torch\n",
        "print(torch.__version__)"
      ]
    },
    {
      "cell_type": "code",
      "source": [
        "if torch.cuda.is_available():\n",
        "  print(\"GPU is available!\")\n",
        "  print(f\"Using GPU: {torch.cuda.get_device_name(0)}\")\n",
        "else :\n",
        "  print(\"GPU not available. Using CPU \")"
      ],
      "metadata": {
        "id": "SVaLC3p-U0Yj",
        "colab": {
          "base_uri": "https://localhost:8080/"
        },
        "outputId": "b5695279-d7b4-4517-de46-486737617921"
      },
      "execution_count": 2,
      "outputs": [
        {
          "output_type": "stream",
          "name": "stdout",
          "text": [
            "GPU is available!\n",
            "Using GPU: Tesla T4\n"
          ]
        }
      ]
    },
    {
      "cell_type": "markdown",
      "source": [
        "CREATING TENSORS"
      ],
      "metadata": {
        "id": "gEL0j39dtdG2"
      }
    },
    {
      "cell_type": "code",
      "source": [
        "# using empty\n",
        "a = torch.empty(2,3)\n",
        "print(a)"
      ],
      "metadata": {
        "colab": {
          "base_uri": "https://localhost:8080/"
        },
        "id": "BWlHlwaJtUDm",
        "outputId": "5c71101d-29bc-4510-da91-b1c47c21812c"
      },
      "execution_count": 3,
      "outputs": [
        {
          "output_type": "stream",
          "name": "stdout",
          "text": [
            "tensor([[1.8877e-01, 4.4271e-41, 1.8877e-01],\n",
            "        [4.4271e-41, 7.0976e+22, 2.1715e-18]])\n"
          ]
        }
      ]
    },
    {
      "cell_type": "code",
      "source": [
        "# check type\n",
        "type(a)"
      ],
      "metadata": {
        "colab": {
          "base_uri": "https://localhost:8080/"
        },
        "id": "l2L8QszQuAuo",
        "outputId": "0dea58d3-07cf-4286-fd59-08b28fec2753"
      },
      "execution_count": 4,
      "outputs": [
        {
          "output_type": "execute_result",
          "data": {
            "text/plain": [
              "torch.Tensor"
            ]
          },
          "metadata": {},
          "execution_count": 4
        }
      ]
    },
    {
      "cell_type": "code",
      "source": [
        "# using zeros\n",
        "torch.zeros(2,3)"
      ],
      "metadata": {
        "colab": {
          "base_uri": "https://localhost:8080/"
        },
        "id": "Br1l-beWuIHb",
        "outputId": "97f8b4e3-b531-453e-88f5-e96d6dab0497"
      },
      "execution_count": 5,
      "outputs": [
        {
          "output_type": "execute_result",
          "data": {
            "text/plain": [
              "tensor([[0., 0., 0.],\n",
              "        [0., 0., 0.]])"
            ]
          },
          "metadata": {},
          "execution_count": 5
        }
      ]
    },
    {
      "cell_type": "code",
      "source": [
        "# using ones\n",
        "torch.ones(2,3)"
      ],
      "metadata": {
        "colab": {
          "base_uri": "https://localhost:8080/"
        },
        "id": "3VzVuM2ZuQ5j",
        "outputId": "ae97eb64-170c-468f-a5e4-57fbf990f0ad"
      },
      "execution_count": 6,
      "outputs": [
        {
          "output_type": "execute_result",
          "data": {
            "text/plain": [
              "tensor([[1., 1., 1.],\n",
              "        [1., 1., 1.]])"
            ]
          },
          "metadata": {},
          "execution_count": 6
        }
      ]
    },
    {
      "cell_type": "code",
      "source": [
        "# using rand\n",
        "torch.rand(2,3)"
      ],
      "metadata": {
        "colab": {
          "base_uri": "https://localhost:8080/"
        },
        "id": "kRxh2zxfuVlK",
        "outputId": "ca6bcbc8-37c4-4c33-c135-3100cd1273ad"
      },
      "execution_count": 7,
      "outputs": [
        {
          "output_type": "execute_result",
          "data": {
            "text/plain": [
              "tensor([[0.6279, 0.2416, 0.9716],\n",
              "        [0.0648, 0.3200, 0.5147]])"
            ]
          },
          "metadata": {},
          "execution_count": 7
        }
      ]
    },
    {
      "cell_type": "code",
      "source": [
        "# use of seed\n",
        "torch.rand(2,3)"
      ],
      "metadata": {
        "colab": {
          "base_uri": "https://localhost:8080/"
        },
        "id": "E6dCqLjnudm7",
        "outputId": "edca6f2c-e0a1-47f2-a077-3364e58e721e"
      },
      "execution_count": 8,
      "outputs": [
        {
          "output_type": "execute_result",
          "data": {
            "text/plain": [
              "tensor([[0.4273, 0.3981, 0.7337],\n",
              "        [0.1859, 0.7037, 0.9208]])"
            ]
          },
          "metadata": {},
          "execution_count": 8
        }
      ]
    },
    {
      "cell_type": "code",
      "source": [
        "# manual seed\n",
        "torch.manual_seed(100)\n",
        "torch.rand(2,3)"
      ],
      "metadata": {
        "colab": {
          "base_uri": "https://localhost:8080/"
        },
        "id": "grMimNwzuoMC",
        "outputId": "6c673f14-70cf-4689-81af-707dfd1d402c"
      },
      "execution_count": 9,
      "outputs": [
        {
          "output_type": "execute_result",
          "data": {
            "text/plain": [
              "tensor([[0.1117, 0.8158, 0.2626],\n",
              "        [0.4839, 0.6765, 0.7539]])"
            ]
          },
          "metadata": {},
          "execution_count": 9
        }
      ]
    },
    {
      "cell_type": "code",
      "source": [
        "torch.manual_seed(100)\n",
        "torch.rand(2,3)"
      ],
      "metadata": {
        "colab": {
          "base_uri": "https://localhost:8080/"
        },
        "id": "LK2uP40Hu0D7",
        "outputId": "e8528804-4ffe-4fd0-c141-4045d295c050"
      },
      "execution_count": 10,
      "outputs": [
        {
          "output_type": "execute_result",
          "data": {
            "text/plain": [
              "tensor([[0.1117, 0.8158, 0.2626],\n",
              "        [0.4839, 0.6765, 0.7539]])"
            ]
          },
          "metadata": {},
          "execution_count": 10
        }
      ]
    },
    {
      "cell_type": "code",
      "source": [
        "# using tensor\n",
        "torch.tensor([[1,2,3] , [4,5,6]])"
      ],
      "metadata": {
        "colab": {
          "base_uri": "https://localhost:8080/"
        },
        "id": "Bass4_JZu4FF",
        "outputId": "06d8a9e3-7971-4a0f-c2bc-d59de9c73644"
      },
      "execution_count": 11,
      "outputs": [
        {
          "output_type": "execute_result",
          "data": {
            "text/plain": [
              "tensor([[1, 2, 3],\n",
              "        [4, 5, 6]])"
            ]
          },
          "metadata": {},
          "execution_count": 11
        }
      ]
    },
    {
      "cell_type": "code",
      "source": [
        "# other ways\n",
        "\n",
        "#  arange\n",
        "print(\"using arange -> \", torch.arange(0,10)) # we can pas step here as well\n",
        "\n",
        "# using linspace\n",
        "print(\"using linspace ->\", torch.linspace(0,10,10))\n",
        "\n",
        "# using eye\n",
        "print(\"using eye ->\", torch.eye(5))\n",
        "\n",
        "# using full\n",
        "print(\"using full ->\" , torch.full((3,5) , 5))"
      ],
      "metadata": {
        "colab": {
          "base_uri": "https://localhost:8080/"
        },
        "id": "HDehw0eBvFR6",
        "outputId": "c24a4644-5d80-48d4-a179-7c899ba42f51"
      },
      "execution_count": 12,
      "outputs": [
        {
          "output_type": "stream",
          "name": "stdout",
          "text": [
            "using arange ->  tensor([0, 1, 2, 3, 4, 5, 6, 7, 8, 9])\n",
            "using linspace -> tensor([ 0.0000,  1.1111,  2.2222,  3.3333,  4.4444,  5.5556,  6.6667,  7.7778,\n",
            "         8.8889, 10.0000])\n",
            "using eye -> tensor([[1., 0., 0., 0., 0.],\n",
            "        [0., 1., 0., 0., 0.],\n",
            "        [0., 0., 1., 0., 0.],\n",
            "        [0., 0., 0., 1., 0.],\n",
            "        [0., 0., 0., 0., 1.]])\n",
            "using full -> tensor([[5, 5, 5, 5, 5],\n",
            "        [5, 5, 5, 5, 5],\n",
            "        [5, 5, 5, 5, 5]])\n"
          ]
        }
      ]
    },
    {
      "cell_type": "markdown",
      "source": [
        "Tensor Shapes"
      ],
      "metadata": {
        "id": "9uUqqIz0wCvp"
      }
    },
    {
      "cell_type": "code",
      "source": [
        "x = torch.tensor([[1,2,3],[4,5,6]])\n",
        "x"
      ],
      "metadata": {
        "colab": {
          "base_uri": "https://localhost:8080/"
        },
        "id": "BXzNRIxiwBas",
        "outputId": "bf86798a-2f7c-4518-e035-16292ac1cccc"
      },
      "execution_count": 13,
      "outputs": [
        {
          "output_type": "execute_result",
          "data": {
            "text/plain": [
              "tensor([[1, 2, 3],\n",
              "        [4, 5, 6]])"
            ]
          },
          "metadata": {},
          "execution_count": 13
        }
      ]
    },
    {
      "cell_type": "code",
      "source": [
        "x.shape"
      ],
      "metadata": {
        "colab": {
          "base_uri": "https://localhost:8080/"
        },
        "id": "baNSDL_IzypD",
        "outputId": "9b55ea56-9b28-49cc-f2fe-1fa04266bfeb"
      },
      "execution_count": 14,
      "outputs": [
        {
          "output_type": "execute_result",
          "data": {
            "text/plain": [
              "torch.Size([2, 3])"
            ]
          },
          "metadata": {},
          "execution_count": 14
        }
      ]
    },
    {
      "cell_type": "code",
      "source": [
        "torch.empty_like(x) #It basically creates the vector of same shape as that of x"
      ],
      "metadata": {
        "colab": {
          "base_uri": "https://localhost:8080/"
        },
        "id": "82ktQY12z1gA",
        "outputId": "34451d51-63b3-4bcd-f982-29fd4798e204"
      },
      "execution_count": 15,
      "outputs": [
        {
          "output_type": "execute_result",
          "data": {
            "text/plain": [
              "tensor([[    135691946249600,     135691946249600, 4661726013461248228],\n",
              "        [4681742012764214613,                  48,                 128]])"
            ]
          },
          "metadata": {},
          "execution_count": 15
        }
      ]
    },
    {
      "cell_type": "code",
      "source": [
        "torch.zeros_like(x)"
      ],
      "metadata": {
        "colab": {
          "base_uri": "https://localhost:8080/"
        },
        "id": "Z-gYx82u0Q_8",
        "outputId": "841a98fc-7422-4b8a-e11d-30c9a10a506c"
      },
      "execution_count": 16,
      "outputs": [
        {
          "output_type": "execute_result",
          "data": {
            "text/plain": [
              "tensor([[0, 0, 0],\n",
              "        [0, 0, 0]])"
            ]
          },
          "metadata": {},
          "execution_count": 16
        }
      ]
    },
    {
      "cell_type": "code",
      "source": [
        "torch.ones_like(x)"
      ],
      "metadata": {
        "colab": {
          "base_uri": "https://localhost:8080/"
        },
        "id": "Lcz4yNnA0W-5",
        "outputId": "0088cada-377c-4c7a-d196-28f46ffebb4e"
      },
      "execution_count": 17,
      "outputs": [
        {
          "output_type": "execute_result",
          "data": {
            "text/plain": [
              "tensor([[1, 1, 1],\n",
              "        [1, 1, 1]])"
            ]
          },
          "metadata": {},
          "execution_count": 17
        }
      ]
    },
    {
      "cell_type": "code",
      "source": [
        "torch.rand_like(x, dtype = torch.float32)"
      ],
      "metadata": {
        "colab": {
          "base_uri": "https://localhost:8080/"
        },
        "id": "MAiLv-cy04-i",
        "outputId": "3c2d34ca-a5b2-4399-98cd-7c1ffd5d6505"
      },
      "execution_count": 18,
      "outputs": [
        {
          "output_type": "execute_result",
          "data": {
            "text/plain": [
              "tensor([[0.2627, 0.0428, 0.2080],\n",
              "        [0.1180, 0.1217, 0.7356]])"
            ]
          },
          "metadata": {},
          "execution_count": 18
        }
      ]
    },
    {
      "cell_type": "markdown",
      "source": [
        "Tensor Data Types"
      ],
      "metadata": {
        "id": "MGz8TAEH1Lsz"
      }
    },
    {
      "cell_type": "code",
      "source": [
        "# find data type\n",
        "x.dtype"
      ],
      "metadata": {
        "colab": {
          "base_uri": "https://localhost:8080/"
        },
        "id": "WHgKxbqA1O11",
        "outputId": "930b3d8c-b00b-42a5-c7d2-e0704fbd33e0"
      },
      "execution_count": 19,
      "outputs": [
        {
          "output_type": "execute_result",
          "data": {
            "text/plain": [
              "torch.int64"
            ]
          },
          "metadata": {},
          "execution_count": 19
        }
      ]
    },
    {
      "cell_type": "code",
      "source": [
        "# assign data type\n",
        "torch.tensor([1.0,2.0,3.0], dtype = torch.int32)"
      ],
      "metadata": {
        "colab": {
          "base_uri": "https://localhost:8080/"
        },
        "id": "u8cizmFe1WJY",
        "outputId": "8ecbffdb-f24a-4965-afa7-e89865908b17"
      },
      "execution_count": 20,
      "outputs": [
        {
          "output_type": "execute_result",
          "data": {
            "text/plain": [
              "tensor([1, 2, 3], dtype=torch.int32)"
            ]
          },
          "metadata": {},
          "execution_count": 20
        }
      ]
    },
    {
      "cell_type": "code",
      "source": [
        "# assign data type\n",
        "torch.tensor([1,2,3], dtype = torch.float)"
      ],
      "metadata": {
        "colab": {
          "base_uri": "https://localhost:8080/"
        },
        "id": "xF98PWsH1zTl",
        "outputId": "31518848-e7bf-441b-b188-fcf330b08a9c"
      },
      "execution_count": 21,
      "outputs": [
        {
          "output_type": "execute_result",
          "data": {
            "text/plain": [
              "tensor([1., 2., 3.])"
            ]
          },
          "metadata": {},
          "execution_count": 21
        }
      ]
    },
    {
      "cell_type": "code",
      "source": [
        "# using to\n",
        "\n",
        "x.to(torch.float32)"
      ],
      "metadata": {
        "colab": {
          "base_uri": "https://localhost:8080/"
        },
        "id": "EpGYJSPI16jO",
        "outputId": "29e07451-ac41-43a3-f67d-5e9369151002"
      },
      "execution_count": 22,
      "outputs": [
        {
          "output_type": "execute_result",
          "data": {
            "text/plain": [
              "tensor([[1., 2., 3.],\n",
              "        [4., 5., 6.]])"
            ]
          },
          "metadata": {},
          "execution_count": 22
        }
      ]
    },
    {
      "cell_type": "markdown",
      "source": [
        "Mathematical Operationns\n",
        "\n",
        "1. Scaler Operation"
      ],
      "metadata": {
        "id": "MN3kcWhR2g9I"
      }
    },
    {
      "cell_type": "code",
      "source": [
        "x = torch.rand(2,3)\n",
        "x"
      ],
      "metadata": {
        "colab": {
          "base_uri": "https://localhost:8080/"
        },
        "id": "ESUu0SLG2Qgx",
        "outputId": "3a3d7bb5-4388-4fb7-9900-61cd7b21c12f"
      },
      "execution_count": 23,
      "outputs": [
        {
          "output_type": "execute_result",
          "data": {
            "text/plain": [
              "tensor([[0.7118, 0.7876, 0.4183],\n",
              "        [0.9014, 0.9969, 0.7565]])"
            ]
          },
          "metadata": {},
          "execution_count": 23
        }
      ]
    },
    {
      "cell_type": "code",
      "source": [
        "# addition\n",
        "\n",
        "x + 2\n",
        "# substraction\n",
        "x - 2\n",
        "# # multiplication\n",
        "x * 3\n",
        "# division\n",
        "x/3\n",
        "\n",
        "# int division\n",
        "(x * 100)//2\n",
        "\n",
        "#  mod\n",
        "(x * 100)%2\n",
        "\n",
        "# power\n",
        "x**2"
      ],
      "metadata": {
        "colab": {
          "base_uri": "https://localhost:8080/"
        },
        "id": "dYS12vo52uw1",
        "outputId": "41e9c732-4605-4437-8aa6-e6a16a64adac"
      },
      "execution_count": 24,
      "outputs": [
        {
          "output_type": "execute_result",
          "data": {
            "text/plain": [
              "tensor([[0.5066, 0.6203, 0.1750],\n",
              "        [0.8125, 0.9938, 0.5723]])"
            ]
          },
          "metadata": {},
          "execution_count": 24
        }
      ]
    },
    {
      "cell_type": "code",
      "source": [
        "# Element wise operation\n",
        "a = torch.rand(2,3)\n",
        "b = torch.rand(2,3)\n",
        "print(a)\n",
        "print(b)"
      ],
      "metadata": {
        "colab": {
          "base_uri": "https://localhost:8080/"
        },
        "id": "Vmgo2jf64MGL",
        "outputId": "178001f5-f5e8-4db3-971e-5f1fdd1c3dfd"
      },
      "execution_count": 25,
      "outputs": [
        {
          "output_type": "stream",
          "name": "stdout",
          "text": [
            "tensor([[0.2239, 0.3023, 0.1784],\n",
            "        [0.8238, 0.5557, 0.9770]])\n",
            "tensor([[0.4440, 0.9478, 0.7445],\n",
            "        [0.4892, 0.2426, 0.7003]])\n"
          ]
        }
      ]
    },
    {
      "cell_type": "code",
      "source": [
        "# addition\n",
        "\n",
        "a + b\n",
        "# substraction\n",
        "a - b\n",
        "# # multiplication\n",
        "a * b\n",
        "# division\n",
        "a / b\n",
        "\n",
        "\n",
        "# power\n",
        "a ** b"
      ],
      "metadata": {
        "colab": {
          "base_uri": "https://localhost:8080/"
        },
        "id": "LRA4icEH4jkU",
        "outputId": "e7843889-0653-4f3f-b9fe-931544be5083"
      },
      "execution_count": 26,
      "outputs": [
        {
          "output_type": "execute_result",
          "data": {
            "text/plain": [
              "tensor([[0.5145, 0.3218, 0.2771],\n",
              "        [0.9096, 0.8672, 0.9839]])"
            ]
          },
          "metadata": {},
          "execution_count": 26
        }
      ]
    },
    {
      "cell_type": "code",
      "source": [
        "c = torch.tensor([1,-2,3,-4])"
      ],
      "metadata": {
        "id": "m8HuSdKb7Vuh"
      },
      "execution_count": 27,
      "outputs": []
    },
    {
      "cell_type": "code",
      "source": [
        "# abs\n",
        "torch.abs(c)"
      ],
      "metadata": {
        "colab": {
          "base_uri": "https://localhost:8080/"
        },
        "id": "HH9Wz__z7bIt",
        "outputId": "ef7ca53a-0678-434f-b28d-7913c5fe0e85"
      },
      "execution_count": 28,
      "outputs": [
        {
          "output_type": "execute_result",
          "data": {
            "text/plain": [
              "tensor([1, 2, 3, 4])"
            ]
          },
          "metadata": {},
          "execution_count": 28
        }
      ]
    },
    {
      "cell_type": "code",
      "source": [
        "torch.neg(c)"
      ],
      "metadata": {
        "colab": {
          "base_uri": "https://localhost:8080/"
        },
        "id": "Onj8FV7N7gno",
        "outputId": "a5d7ca59-6f2f-4dab-bf4e-d365232b7d86"
      },
      "execution_count": 29,
      "outputs": [
        {
          "output_type": "execute_result",
          "data": {
            "text/plain": [
              "tensor([-1,  2, -3,  4])"
            ]
          },
          "metadata": {},
          "execution_count": 29
        }
      ]
    },
    {
      "cell_type": "code",
      "source": [
        "# round\n",
        "d = torch.tensor([1.2,1.5,1.8])\n",
        "torch.round(d)"
      ],
      "metadata": {
        "colab": {
          "base_uri": "https://localhost:8080/"
        },
        "id": "DUOm3RwC7ppN",
        "outputId": "5d7743e6-0a86-4da6-ca5c-282ee36ac031"
      },
      "execution_count": 30,
      "outputs": [
        {
          "output_type": "execute_result",
          "data": {
            "text/plain": [
              "tensor([1., 2., 2.])"
            ]
          },
          "metadata": {},
          "execution_count": 30
        }
      ]
    },
    {
      "cell_type": "code",
      "source": [
        "# ceil\n",
        "torch.ceil(d)"
      ],
      "metadata": {
        "colab": {
          "base_uri": "https://localhost:8080/"
        },
        "id": "q3huFIOI72lh",
        "outputId": "b878a911-5092-47ee-f8de-296222b7eb75"
      },
      "execution_count": 31,
      "outputs": [
        {
          "output_type": "execute_result",
          "data": {
            "text/plain": [
              "tensor([2., 2., 2.])"
            ]
          },
          "metadata": {},
          "execution_count": 31
        }
      ]
    },
    {
      "cell_type": "code",
      "source": [
        "# floor\n",
        "torch.floor(d)"
      ],
      "metadata": {
        "colab": {
          "base_uri": "https://localhost:8080/"
        },
        "id": "kOqfUwS879LA",
        "outputId": "224e626f-2cc2-4329-dc57-9c3b699d89e8"
      },
      "execution_count": 32,
      "outputs": [
        {
          "output_type": "execute_result",
          "data": {
            "text/plain": [
              "tensor([1., 1., 1.])"
            ]
          },
          "metadata": {},
          "execution_count": 32
        }
      ]
    },
    {
      "cell_type": "code",
      "source": [
        "# clamp\n",
        "torch.clamp(d, min = 1.3, max = 1.7)"
      ],
      "metadata": {
        "colab": {
          "base_uri": "https://localhost:8080/"
        },
        "id": "uIdWkjkn8AgK",
        "outputId": "721a5a4e-28fa-4479-a1d4-3e4fdee24e5c"
      },
      "execution_count": 33,
      "outputs": [
        {
          "output_type": "execute_result",
          "data": {
            "text/plain": [
              "tensor([1.3000, 1.5000, 1.7000])"
            ]
          },
          "metadata": {},
          "execution_count": 33
        }
      ]
    },
    {
      "cell_type": "markdown",
      "source": [
        "Reduction operation"
      ],
      "metadata": {
        "id": "N7vcftF08uH-"
      }
    },
    {
      "cell_type": "code",
      "source": [
        "e = torch.randint(size = (2,3), high = 10, dtype = torch.float32)\n",
        "e"
      ],
      "metadata": {
        "colab": {
          "base_uri": "https://localhost:8080/"
        },
        "id": "KLtO-Tfa87X0",
        "outputId": "c07d8f58-db59-4f2d-adf7-38a3f9d158cc"
      },
      "execution_count": 34,
      "outputs": [
        {
          "output_type": "execute_result",
          "data": {
            "text/plain": [
              "tensor([[7., 0., 0.],\n",
              "        [9., 5., 7.]])"
            ]
          },
          "metadata": {},
          "execution_count": 34
        }
      ]
    },
    {
      "cell_type": "code",
      "source": [
        "# sum\n",
        "torch.sum(e)\n",
        "# sum along columns\n",
        "torch.sum(e, dim = 0)\n",
        "# sum along rows\n",
        "torch.sum(e, dim = 1)"
      ],
      "metadata": {
        "colab": {
          "base_uri": "https://localhost:8080/"
        },
        "id": "yveKZxuN9OYp",
        "outputId": "1a9f614d-fa1e-4fb7-dd10-032322a5a706"
      },
      "execution_count": 35,
      "outputs": [
        {
          "output_type": "execute_result",
          "data": {
            "text/plain": [
              "tensor([ 7., 21.])"
            ]
          },
          "metadata": {},
          "execution_count": 35
        }
      ]
    },
    {
      "cell_type": "code",
      "source": [
        "# mean\n",
        "torch.mean(e)\n",
        "# mean along columns\n",
        "torch.mean(e, dim = 0)\n",
        "# mean along rows\n",
        "torch.mean(e, dim = 1)"
      ],
      "metadata": {
        "colab": {
          "base_uri": "https://localhost:8080/"
        },
        "id": "rfPrpZwK9w2-",
        "outputId": "e451b76d-9da8-4568-b0b3-00c77b3bce60"
      },
      "execution_count": 36,
      "outputs": [
        {
          "output_type": "execute_result",
          "data": {
            "text/plain": [
              "tensor([2.3333, 7.0000])"
            ]
          },
          "metadata": {},
          "execution_count": 36
        }
      ]
    },
    {
      "cell_type": "code",
      "source": [
        "# median\n",
        "torch.median(e)\n",
        "# median along columns\n",
        "torch.median(e, dim = 0)\n",
        "# median along rows\n",
        "torch.median(e, dim = 1)"
      ],
      "metadata": {
        "colab": {
          "base_uri": "https://localhost:8080/"
        },
        "id": "s6GpOGDx95L4",
        "outputId": "69ecabc4-5867-499a-e500-4de89feb0a3d"
      },
      "execution_count": 37,
      "outputs": [
        {
          "output_type": "execute_result",
          "data": {
            "text/plain": [
              "torch.return_types.median(\n",
              "values=tensor([0., 7.]),\n",
              "indices=tensor([2, 2]))"
            ]
          },
          "metadata": {},
          "execution_count": 37
        }
      ]
    },
    {
      "cell_type": "code",
      "source": [
        "# max and min\n",
        "torch.max(e)\n",
        "torch.min(e)"
      ],
      "metadata": {
        "colab": {
          "base_uri": "https://localhost:8080/"
        },
        "id": "5zJEmiee-Cjw",
        "outputId": "8d4caed5-3ae1-4eb8-ee63-ff093f4acce4"
      },
      "execution_count": 38,
      "outputs": [
        {
          "output_type": "execute_result",
          "data": {
            "text/plain": [
              "tensor(0.)"
            ]
          },
          "metadata": {},
          "execution_count": 38
        }
      ]
    },
    {
      "cell_type": "code",
      "source": [
        "# product\n",
        "torch.prod(e)\n",
        "# product along columns\n",
        "torch.prod(e, dim = 0)\n",
        "# product along rows\n",
        "torch.prod(e, dim = 1)"
      ],
      "metadata": {
        "colab": {
          "base_uri": "https://localhost:8080/"
        },
        "id": "F3f-O3Kp-Opm",
        "outputId": "316a9331-1b88-4f83-cddf-86c84511ae79"
      },
      "execution_count": 39,
      "outputs": [
        {
          "output_type": "execute_result",
          "data": {
            "text/plain": [
              "tensor([  0., 315.])"
            ]
          },
          "metadata": {},
          "execution_count": 39
        }
      ]
    },
    {
      "cell_type": "code",
      "source": [
        "# standard deviation\n",
        "torch.std(e)\n",
        "# standard deviation along columns\n",
        "torch.std(e, dim = 0)\n",
        "# standard deviation along rows\n",
        "torch.std(e, dim = 1)"
      ],
      "metadata": {
        "colab": {
          "base_uri": "https://localhost:8080/"
        },
        "id": "k7GcoF58-R4r",
        "outputId": "88839722-a0aa-4f69-f73d-6576f149cd7d"
      },
      "execution_count": 40,
      "outputs": [
        {
          "output_type": "execute_result",
          "data": {
            "text/plain": [
              "tensor([4.0415, 2.0000])"
            ]
          },
          "metadata": {},
          "execution_count": 40
        }
      ]
    },
    {
      "cell_type": "code",
      "source": [
        "# variance\n",
        "torch.var(e)\n",
        "# variance along columns\n",
        "torch.var(e, dim = 0)\n",
        "# variance along rows\n",
        "torch.var(e, dim = 1)"
      ],
      "metadata": {
        "colab": {
          "base_uri": "https://localhost:8080/"
        },
        "id": "itE0aVOj-ZIy",
        "outputId": "e912dffc-a949-487e-b9cf-664bd00de91b"
      },
      "execution_count": 41,
      "outputs": [
        {
          "output_type": "execute_result",
          "data": {
            "text/plain": [
              "tensor([16.3333,  4.0000])"
            ]
          },
          "metadata": {},
          "execution_count": 41
        }
      ]
    },
    {
      "cell_type": "code",
      "source": [
        "# argmax -> tells the position of maxm element\n",
        "torch.argmax(e)\n",
        "# argmax along columns\n",
        "torch.argmax(e, dim = 0)\n",
        "# argmax along rows\n",
        "torch.argmax(e, dim = 1)"
      ],
      "metadata": {
        "colab": {
          "base_uri": "https://localhost:8080/"
        },
        "id": "rqqbpp6b-fXN",
        "outputId": "7cd0bf47-92bc-4616-de5b-3b601491d791"
      },
      "execution_count": 42,
      "outputs": [
        {
          "output_type": "execute_result",
          "data": {
            "text/plain": [
              "tensor([0, 0])"
            ]
          },
          "metadata": {},
          "execution_count": 42
        }
      ]
    },
    {
      "cell_type": "code",
      "source": [
        "# argmin -> tells the position of minm element\n",
        "torch.argmin(e)\n",
        "# argmin along columns\n",
        "torch.argmin(e, dim = 0)\n",
        "# argmin along rows\n",
        "torch.argmin(e, dim = 1)"
      ],
      "metadata": {
        "colab": {
          "base_uri": "https://localhost:8080/"
        },
        "id": "Fcgwpgqd-nHO",
        "outputId": "637db46f-2b4b-4d12-cae1-7e67544ac9ac"
      },
      "execution_count": 43,
      "outputs": [
        {
          "output_type": "execute_result",
          "data": {
            "text/plain": [
              "tensor([1, 1])"
            ]
          },
          "metadata": {},
          "execution_count": 43
        }
      ]
    },
    {
      "cell_type": "markdown",
      "source": [
        "Matrix Operations"
      ],
      "metadata": {
        "id": "_nzqwDo0-1us"
      }
    },
    {
      "cell_type": "code",
      "source": [
        "f = torch.randint(size = (2,3), high = 10)\n",
        "g = torch.randint(size = (3,2), high = 10)\n",
        "print(f)\n",
        "print(g)"
      ],
      "metadata": {
        "colab": {
          "base_uri": "https://localhost:8080/"
        },
        "id": "W2oB8yZB-34t",
        "outputId": "b4bfaf40-a70c-48e3-ee5e-a8a6cd577af0"
      },
      "execution_count": 44,
      "outputs": [
        {
          "output_type": "stream",
          "name": "stdout",
          "text": [
            "tensor([[3, 9, 4],\n",
            "        [0, 5, 7]])\n",
            "tensor([[5, 9],\n",
            "        [9, 7],\n",
            "        [5, 9]])\n"
          ]
        }
      ]
    },
    {
      "cell_type": "code",
      "source": [
        "# matrix multiplication\n",
        "torch.matmul(f,g)"
      ],
      "metadata": {
        "colab": {
          "base_uri": "https://localhost:8080/"
        },
        "id": "4t4ToSil-_hX",
        "outputId": "7a4f9631-2d38-49de-ddad-560698034678"
      },
      "execution_count": 45,
      "outputs": [
        {
          "output_type": "execute_result",
          "data": {
            "text/plain": [
              "tensor([[116, 126],\n",
              "        [ 80,  98]])"
            ]
          },
          "metadata": {},
          "execution_count": 45
        }
      ]
    },
    {
      "cell_type": "code",
      "source": [
        "vector1 = torch.tensor([1,2,3])\n",
        "vector2 = torch.tensor([4,5,6])\n",
        "# dot product\n",
        "torch.dot(vector1, vector2)"
      ],
      "metadata": {
        "colab": {
          "base_uri": "https://localhost:8080/"
        },
        "id": "nQKfFYR7_QpG",
        "outputId": "bf1502f3-fd06-4823-d3e4-3b32460e7f6c"
      },
      "execution_count": 46,
      "outputs": [
        {
          "output_type": "execute_result",
          "data": {
            "text/plain": [
              "tensor(32)"
            ]
          },
          "metadata": {},
          "execution_count": 46
        }
      ]
    },
    {
      "cell_type": "code",
      "source": [
        "# transpose\n",
        "torch.transpose(f , 0 , 1)"
      ],
      "metadata": {
        "colab": {
          "base_uri": "https://localhost:8080/"
        },
        "id": "tVT8Jb-o_WNk",
        "outputId": "ef0eb852-9e35-431a-ecd3-ee105e7d8ff8"
      },
      "execution_count": 47,
      "outputs": [
        {
          "output_type": "execute_result",
          "data": {
            "text/plain": [
              "tensor([[3, 0],\n",
              "        [9, 5],\n",
              "        [4, 7]])"
            ]
          },
          "metadata": {},
          "execution_count": 47
        }
      ]
    },
    {
      "cell_type": "code",
      "source": [
        "h = torch.randint(size = (3,3),low = 0, high = 10, dtype = torch.float32)\n",
        "h"
      ],
      "metadata": {
        "colab": {
          "base_uri": "https://localhost:8080/"
        },
        "id": "UGw8tgQT_qWv",
        "outputId": "a17a1ed8-15fe-44ca-a3b8-bd1c4e8a9c92"
      },
      "execution_count": 48,
      "outputs": [
        {
          "output_type": "execute_result",
          "data": {
            "text/plain": [
              "tensor([[8., 9., 7.],\n",
              "        [9., 2., 6.],\n",
              "        [7., 7., 8.]])"
            ]
          },
          "metadata": {},
          "execution_count": 48
        }
      ]
    },
    {
      "cell_type": "code",
      "source": [
        "# determinant\n",
        "torch.det(h)"
      ],
      "metadata": {
        "colab": {
          "base_uri": "https://localhost:8080/"
        },
        "id": "1j5dBF_t_40T",
        "outputId": "b944f63c-b066-47c6-a3f3-0989d3ff03d0"
      },
      "execution_count": 49,
      "outputs": [
        {
          "output_type": "execute_result",
          "data": {
            "text/plain": [
              "tensor(-135.0000)"
            ]
          },
          "metadata": {},
          "execution_count": 49
        }
      ]
    },
    {
      "cell_type": "code",
      "source": [
        "# inverse\n",
        "torch.inverse(h)"
      ],
      "metadata": {
        "colab": {
          "base_uri": "https://localhost:8080/"
        },
        "id": "a15gn5Jd_-_c",
        "outputId": "6da86e6f-1fa7-4e68-8204-f34b9eb267b2"
      },
      "execution_count": 50,
      "outputs": [
        {
          "output_type": "execute_result",
          "data": {
            "text/plain": [
              "tensor([[ 0.1926,  0.1704, -0.2963],\n",
              "        [ 0.2222, -0.1111, -0.1111],\n",
              "        [-0.3630, -0.0519,  0.4815]])"
            ]
          },
          "metadata": {},
          "execution_count": 50
        }
      ]
    },
    {
      "cell_type": "markdown",
      "source": [
        "5. Comparision Operations"
      ],
      "metadata": {
        "id": "FuZCWjAaAL3w"
      }
    },
    {
      "cell_type": "code",
      "source": [
        "i = torch.randint(size = (2,3), low = 0, high = 10)\n",
        "j = torch.randint(size = (2,3), low = 0, high = 10)\n",
        "print(i)\n",
        "print(j)"
      ],
      "metadata": {
        "colab": {
          "base_uri": "https://localhost:8080/"
        },
        "id": "yibOp0fAAKZx",
        "outputId": "49e41ec3-8096-41f7-b2cd-6c1363d49b8a"
      },
      "execution_count": 51,
      "outputs": [
        {
          "output_type": "stream",
          "name": "stdout",
          "text": [
            "tensor([[3, 6, 1],\n",
            "        [5, 5, 0]])\n",
            "tensor([[4, 3, 8],\n",
            "        [8, 3, 3]])\n"
          ]
        }
      ]
    },
    {
      "cell_type": "code",
      "source": [
        "# greater than\n",
        "i > j\n",
        "# less than\n",
        "i < j\n",
        "#  equal to\n",
        "i == j\n",
        "# not equal to\n",
        "i != j\n",
        "# greater than or equal\n",
        "i >= j\n",
        "# less than or equal\n",
        "i <= j"
      ],
      "metadata": {
        "colab": {
          "base_uri": "https://localhost:8080/"
        },
        "id": "tPvuRZ69AYxg",
        "outputId": "d3d86e55-d6e7-41a3-bd35-34a700f12f04"
      },
      "execution_count": 52,
      "outputs": [
        {
          "output_type": "execute_result",
          "data": {
            "text/plain": [
              "tensor([[ True, False,  True],\n",
              "        [ True, False,  True]])"
            ]
          },
          "metadata": {},
          "execution_count": 52
        }
      ]
    },
    {
      "cell_type": "markdown",
      "source": [
        "6. Special functions"
      ],
      "metadata": {
        "id": "n6Li2pKaAxiK"
      }
    },
    {
      "cell_type": "code",
      "source": [
        "k = torch.randint(size = (2,3), low = 0, high = 10, dtype=torch.float32)\n",
        "k"
      ],
      "metadata": {
        "colab": {
          "base_uri": "https://localhost:8080/"
        },
        "id": "4se5G_FOA0Zx",
        "outputId": "d720de08-1a4e-48c0-91e8-914c92a6785e"
      },
      "execution_count": 53,
      "outputs": [
        {
          "output_type": "execute_result",
          "data": {
            "text/plain": [
              "tensor([[5., 0., 6.],\n",
              "        [4., 0., 8.]])"
            ]
          },
          "metadata": {},
          "execution_count": 53
        }
      ]
    },
    {
      "cell_type": "code",
      "source": [
        "# log\n",
        "torch.log(k)"
      ],
      "metadata": {
        "colab": {
          "base_uri": "https://localhost:8080/"
        },
        "id": "8Zus6LmlA6em",
        "outputId": "70d1fe31-3bc9-488b-b5b6-6eccf6157ee3"
      },
      "execution_count": 54,
      "outputs": [
        {
          "output_type": "execute_result",
          "data": {
            "text/plain": [
              "tensor([[1.6094,   -inf, 1.7918],\n",
              "        [1.3863,   -inf, 2.0794]])"
            ]
          },
          "metadata": {},
          "execution_count": 54
        }
      ]
    },
    {
      "cell_type": "code",
      "source": [
        "# exp\n",
        "torch.exp(k)"
      ],
      "metadata": {
        "colab": {
          "base_uri": "https://localhost:8080/"
        },
        "id": "3P_hE2LTA9Dz",
        "outputId": "d4fad279-de8d-41c8-c2e1-835266d3831b"
      },
      "execution_count": 55,
      "outputs": [
        {
          "output_type": "execute_result",
          "data": {
            "text/plain": [
              "tensor([[1.4841e+02, 1.0000e+00, 4.0343e+02],\n",
              "        [5.4598e+01, 1.0000e+00, 2.9810e+03]])"
            ]
          },
          "metadata": {},
          "execution_count": 55
        }
      ]
    },
    {
      "cell_type": "code",
      "source": [
        "# sqrt\n",
        "torch.sqrt(k)"
      ],
      "metadata": {
        "colab": {
          "base_uri": "https://localhost:8080/"
        },
        "id": "kBkNyUJGBFlq",
        "outputId": "359d6db9-f2bc-4964-d913-5f6a6d3916b2"
      },
      "execution_count": 56,
      "outputs": [
        {
          "output_type": "execute_result",
          "data": {
            "text/plain": [
              "tensor([[2.2361, 0.0000, 2.4495],\n",
              "        [2.0000, 0.0000, 2.8284]])"
            ]
          },
          "metadata": {},
          "execution_count": 56
        }
      ]
    },
    {
      "cell_type": "code",
      "source": [
        "#  sigmoid\n",
        "torch.sigmoid(k)"
      ],
      "metadata": {
        "colab": {
          "base_uri": "https://localhost:8080/"
        },
        "id": "kdiOuzVGBKJX",
        "outputId": "ba6ef796-5097-4850-8f4a-61292efcda8e"
      },
      "execution_count": 57,
      "outputs": [
        {
          "output_type": "execute_result",
          "data": {
            "text/plain": [
              "tensor([[0.9933, 0.5000, 0.9975],\n",
              "        [0.9820, 0.5000, 0.9997]])"
            ]
          },
          "metadata": {},
          "execution_count": 57
        }
      ]
    },
    {
      "cell_type": "code",
      "source": [
        "# softmax\n",
        "torch.softmax(k, dim = 0)"
      ],
      "metadata": {
        "colab": {
          "base_uri": "https://localhost:8080/"
        },
        "id": "Thv6COVkBUkX",
        "outputId": "816b9336-e1f4-4a88-b225-6c4aa452afe2"
      },
      "execution_count": 58,
      "outputs": [
        {
          "output_type": "execute_result",
          "data": {
            "text/plain": [
              "tensor([[0.7311, 0.5000, 0.1192],\n",
              "        [0.2689, 0.5000, 0.8808]])"
            ]
          },
          "metadata": {},
          "execution_count": 58
        }
      ]
    },
    {
      "cell_type": "code",
      "source": [
        "# relu\n",
        "torch.relu(k)"
      ],
      "metadata": {
        "colab": {
          "base_uri": "https://localhost:8080/"
        },
        "id": "uCwgupMxBjmQ",
        "outputId": "0666dbd6-a169-46a8-c986-c745eb1b864c"
      },
      "execution_count": 59,
      "outputs": [
        {
          "output_type": "execute_result",
          "data": {
            "text/plain": [
              "tensor([[5., 0., 6.],\n",
              "        [4., 0., 8.]])"
            ]
          },
          "metadata": {},
          "execution_count": 59
        }
      ]
    },
    {
      "cell_type": "markdown",
      "source": [
        "INplace Operations"
      ],
      "metadata": {
        "id": "ad8gpdXGBs0z"
      }
    },
    {
      "cell_type": "code",
      "source": [
        "m = torch.randint(size = (2,3), low = 0, high = 10, dtype=torch.float32)\n",
        "n = torch.randint(size = (2,3), low = 0, high = 10, dtype=torch.float32)\n",
        "print(m)\n",
        "print(n)"
      ],
      "metadata": {
        "colab": {
          "base_uri": "https://localhost:8080/"
        },
        "id": "vlpJV-qUBr73",
        "outputId": "ef43aeb0-4ddb-4fd0-8b70-19d04158277c"
      },
      "execution_count": 60,
      "outputs": [
        {
          "output_type": "stream",
          "name": "stdout",
          "text": [
            "tensor([[4., 7., 2.],\n",
            "        [3., 8., 5.]])\n",
            "tensor([[6., 2., 9.],\n",
            "        [5., 0., 4.]])\n"
          ]
        }
      ]
    },
    {
      "cell_type": "code",
      "source": [
        "m + n # creates a new tensor that stores thd value of m + n"
      ],
      "metadata": {
        "colab": {
          "base_uri": "https://localhost:8080/"
        },
        "id": "vzWEVsu7B4hk",
        "outputId": "d55fb999-ee2e-45a1-8485-bf00e3b60bad"
      },
      "execution_count": 61,
      "outputs": [
        {
          "output_type": "execute_result",
          "data": {
            "text/plain": [
              "tensor([[10.,  9., 11.],\n",
              "        [ 8.,  8.,  9.]])"
            ]
          },
          "metadata": {},
          "execution_count": 61
        }
      ]
    },
    {
      "cell_type": "code",
      "source": [
        "m.add_(n) #value of n gets added to m and is stored inside m"
      ],
      "metadata": {
        "colab": {
          "base_uri": "https://localhost:8080/"
        },
        "id": "VG-t74xcCKNx",
        "outputId": "86133325-dc61-49de-89c9-48f4eb00e8d2"
      },
      "execution_count": 62,
      "outputs": [
        {
          "output_type": "execute_result",
          "data": {
            "text/plain": [
              "tensor([[10.,  9., 11.],\n",
              "        [ 8.,  8.,  9.]])"
            ]
          },
          "metadata": {},
          "execution_count": 62
        }
      ]
    },
    {
      "cell_type": "code",
      "source": [
        "m"
      ],
      "metadata": {
        "colab": {
          "base_uri": "https://localhost:8080/"
        },
        "id": "stVJ_dmECTUn",
        "outputId": "7bfdeb07-0039-4a71-afde-86f07c745d4e"
      },
      "execution_count": 63,
      "outputs": [
        {
          "output_type": "execute_result",
          "data": {
            "text/plain": [
              "tensor([[10.,  9., 11.],\n",
              "        [ 8.,  8.,  9.]])"
            ]
          },
          "metadata": {},
          "execution_count": 63
        }
      ]
    },
    {
      "cell_type": "code",
      "source": [
        "n"
      ],
      "metadata": {
        "colab": {
          "base_uri": "https://localhost:8080/"
        },
        "id": "0ZQfBDm5CWv7",
        "outputId": "7d0f8c85-7b7f-457a-c242-e3d893da86e0"
      },
      "execution_count": 64,
      "outputs": [
        {
          "output_type": "execute_result",
          "data": {
            "text/plain": [
              "tensor([[6., 2., 9.],\n",
              "        [5., 0., 4.]])"
            ]
          },
          "metadata": {},
          "execution_count": 64
        }
      ]
    },
    {
      "cell_type": "code",
      "source": [
        "torch.relu(m)"
      ],
      "metadata": {
        "colab": {
          "base_uri": "https://localhost:8080/"
        },
        "id": "m9WaBKdACZhj",
        "outputId": "366d5f40-4923-433b-8602-e03bfc667a2b"
      },
      "execution_count": 65,
      "outputs": [
        {
          "output_type": "execute_result",
          "data": {
            "text/plain": [
              "tensor([[10.,  9., 11.],\n",
              "        [ 8.,  8.,  9.]])"
            ]
          },
          "metadata": {},
          "execution_count": 65
        }
      ]
    },
    {
      "cell_type": "code",
      "source": [
        "m.relu_()"
      ],
      "metadata": {
        "colab": {
          "base_uri": "https://localhost:8080/"
        },
        "id": "D_1UGhcoCesc",
        "outputId": "54c6748a-8dfa-4430-d9ea-63f5bc7f2a96"
      },
      "execution_count": 66,
      "outputs": [
        {
          "output_type": "execute_result",
          "data": {
            "text/plain": [
              "tensor([[10.,  9., 11.],\n",
              "        [ 8.,  8.,  9.]])"
            ]
          },
          "metadata": {},
          "execution_count": 66
        }
      ]
    },
    {
      "cell_type": "code",
      "source": [
        "m"
      ],
      "metadata": {
        "colab": {
          "base_uri": "https://localhost:8080/"
        },
        "id": "lil_ZkVYCj55",
        "outputId": "4ca9ae7c-6ab8-4682-a050-0e84fc471a37"
      },
      "execution_count": 67,
      "outputs": [
        {
          "output_type": "execute_result",
          "data": {
            "text/plain": [
              "tensor([[10.,  9., 11.],\n",
              "        [ 8.,  8.,  9.]])"
            ]
          },
          "metadata": {},
          "execution_count": 67
        }
      ]
    },
    {
      "cell_type": "markdown",
      "source": [
        "Copying a Tensor"
      ],
      "metadata": {
        "id": "rythEPkACrOU"
      }
    },
    {
      "cell_type": "code",
      "source": [
        "a = torch.rand(2,3)\n",
        "a"
      ],
      "metadata": {
        "colab": {
          "base_uri": "https://localhost:8080/"
        },
        "id": "qDbDd9_8Ctaj",
        "outputId": "cc321aa3-b3b1-436f-d57a-d7936e976aa9"
      },
      "execution_count": 68,
      "outputs": [
        {
          "output_type": "execute_result",
          "data": {
            "text/plain": [
              "tensor([[0.9141, 0.7668, 0.1659],\n",
              "        [0.4393, 0.2243, 0.8935]])"
            ]
          },
          "metadata": {},
          "execution_count": 68
        }
      ]
    },
    {
      "cell_type": "code",
      "source": [
        "b = a"
      ],
      "metadata": {
        "id": "g4hdfk-TC_VT"
      },
      "execution_count": 69,
      "outputs": []
    },
    {
      "cell_type": "code",
      "source": [
        "b"
      ],
      "metadata": {
        "colab": {
          "base_uri": "https://localhost:8080/"
        },
        "id": "0_W8pFl_DBAK",
        "outputId": "0b4ce1be-825d-4427-8e0e-20de763bb379"
      },
      "execution_count": 70,
      "outputs": [
        {
          "output_type": "execute_result",
          "data": {
            "text/plain": [
              "tensor([[0.9141, 0.7668, 0.1659],\n",
              "        [0.4393, 0.2243, 0.8935]])"
            ]
          },
          "metadata": {},
          "execution_count": 70
        }
      ]
    },
    {
      "cell_type": "code",
      "source": [
        "a[0][0] = 0.5\n",
        "a"
      ],
      "metadata": {
        "colab": {
          "base_uri": "https://localhost:8080/"
        },
        "id": "elOEzfalDC8G",
        "outputId": "2a8776c0-b316-41e7-cbb8-c1a403329fcc"
      },
      "execution_count": 71,
      "outputs": [
        {
          "output_type": "execute_result",
          "data": {
            "text/plain": [
              "tensor([[0.5000, 0.7668, 0.1659],\n",
              "        [0.4393, 0.2243, 0.8935]])"
            ]
          },
          "metadata": {},
          "execution_count": 71
        }
      ]
    },
    {
      "cell_type": "code",
      "source": [
        "b # changes made in a is reflected in b"
      ],
      "metadata": {
        "colab": {
          "base_uri": "https://localhost:8080/"
        },
        "id": "pMKZ_I-lDINB",
        "outputId": "4c1174f4-2026-4a46-adb0-5648b6d4b908"
      },
      "execution_count": 72,
      "outputs": [
        {
          "output_type": "execute_result",
          "data": {
            "text/plain": [
              "tensor([[0.5000, 0.7668, 0.1659],\n",
              "        [0.4393, 0.2243, 0.8935]])"
            ]
          },
          "metadata": {},
          "execution_count": 72
        }
      ]
    },
    {
      "cell_type": "code",
      "source": [
        "id(a)"
      ],
      "metadata": {
        "colab": {
          "base_uri": "https://localhost:8080/"
        },
        "id": "ZDQe9wjcDkRP",
        "outputId": "f26e852d-0a34-4815-9f44-9bb4b01cdde4"
      },
      "execution_count": 73,
      "outputs": [
        {
          "output_type": "execute_result",
          "data": {
            "text/plain": [
              "135687540827760"
            ]
          },
          "metadata": {},
          "execution_count": 73
        }
      ]
    },
    {
      "cell_type": "code",
      "source": [
        "id(b)"
      ],
      "metadata": {
        "colab": {
          "base_uri": "https://localhost:8080/"
        },
        "id": "CQEf5ov8DmsH",
        "outputId": "4d2c988a-60de-4ce0-c2ea-8934631a919e"
      },
      "execution_count": 74,
      "outputs": [
        {
          "output_type": "execute_result",
          "data": {
            "text/plain": [
              "135687540827760"
            ]
          },
          "metadata": {},
          "execution_count": 74
        }
      ]
    },
    {
      "cell_type": "code",
      "source": [
        "b = a.clone() # this will create a new tensor with same val and dimension and  b will point to it\n",
        "print(a)\n",
        "print(b)"
      ],
      "metadata": {
        "colab": {
          "base_uri": "https://localhost:8080/"
        },
        "id": "MgygnNMHC-Lw",
        "outputId": "d9dee353-07a4-47b9-90eb-0e4e10e29c44"
      },
      "execution_count": 75,
      "outputs": [
        {
          "output_type": "stream",
          "name": "stdout",
          "text": [
            "tensor([[0.5000, 0.7668, 0.1659],\n",
            "        [0.4393, 0.2243, 0.8935]])\n",
            "tensor([[0.5000, 0.7668, 0.1659],\n",
            "        [0.4393, 0.2243, 0.8935]])\n"
          ]
        }
      ]
    },
    {
      "cell_type": "code",
      "source": [
        "a[0][0]= 10\n",
        "a"
      ],
      "metadata": {
        "colab": {
          "base_uri": "https://localhost:8080/"
        },
        "id": "my0NpWxqD-Ib",
        "outputId": "86c17526-4961-47ee-b632-b10f3cf9f902"
      },
      "execution_count": 76,
      "outputs": [
        {
          "output_type": "execute_result",
          "data": {
            "text/plain": [
              "tensor([[10.0000,  0.7668,  0.1659],\n",
              "        [ 0.4393,  0.2243,  0.8935]])"
            ]
          },
          "metadata": {},
          "execution_count": 76
        }
      ]
    },
    {
      "cell_type": "code",
      "source": [
        "b"
      ],
      "metadata": {
        "colab": {
          "base_uri": "https://localhost:8080/"
        },
        "id": "IELASKDYEDVd",
        "outputId": "8fb2c4a3-308b-49d7-8cca-cac517cde6f5"
      },
      "execution_count": 77,
      "outputs": [
        {
          "output_type": "execute_result",
          "data": {
            "text/plain": [
              "tensor([[0.5000, 0.7668, 0.1659],\n",
              "        [0.4393, 0.2243, 0.8935]])"
            ]
          },
          "metadata": {},
          "execution_count": 77
        }
      ]
    },
    {
      "cell_type": "code",
      "source": [
        "id(a)"
      ],
      "metadata": {
        "colab": {
          "base_uri": "https://localhost:8080/"
        },
        "id": "krylAGHCDslF",
        "outputId": "830a6ed7-aa30-4427-8df0-95311e8a2fb6"
      },
      "execution_count": 78,
      "outputs": [
        {
          "output_type": "execute_result",
          "data": {
            "text/plain": [
              "135687540827760"
            ]
          },
          "metadata": {},
          "execution_count": 78
        }
      ]
    },
    {
      "cell_type": "code",
      "source": [
        "id(b)"
      ],
      "metadata": {
        "colab": {
          "base_uri": "https://localhost:8080/"
        },
        "id": "T9B8GLvPDuRB",
        "outputId": "7b5ce064-c33f-4fa9-8731-f939f6cd867c"
      },
      "execution_count": 79,
      "outputs": [
        {
          "output_type": "execute_result",
          "data": {
            "text/plain": [
              "135687540868912"
            ]
          },
          "metadata": {},
          "execution_count": 79
        }
      ]
    },
    {
      "cell_type": "markdown",
      "source": [
        "Tensor Operations on GPU"
      ],
      "metadata": {
        "id": "_4YAOvhA81MU"
      }
    },
    {
      "cell_type": "code",
      "source": [
        "torch.cuda.is_available()"
      ],
      "metadata": {
        "colab": {
          "base_uri": "https://localhost:8080/"
        },
        "id": "BOgRb7_uD8Xs",
        "outputId": "893b88df-1851-403e-aef7-51a10d3c1043"
      },
      "execution_count": 80,
      "outputs": [
        {
          "output_type": "execute_result",
          "data": {
            "text/plain": [
              "True"
            ]
          },
          "metadata": {},
          "execution_count": 80
        }
      ]
    },
    {
      "cell_type": "code",
      "source": [
        "device =torch.device('cuda')\n",
        "device"
      ],
      "metadata": {
        "colab": {
          "base_uri": "https://localhost:8080/"
        },
        "id": "QvyZi9iT9YSz",
        "outputId": "c7d734aa-fa4f-4bb1-db31-7d307615695c"
      },
      "execution_count": 83,
      "outputs": [
        {
          "output_type": "execute_result",
          "data": {
            "text/plain": [
              "device(type='cuda')"
            ]
          },
          "metadata": {},
          "execution_count": 83
        }
      ]
    },
    {
      "cell_type": "code",
      "source": [
        "# Creating a new temsor on GPU\n",
        "torch.rand((2,3), device=device)"
      ],
      "metadata": {
        "colab": {
          "base_uri": "https://localhost:8080/"
        },
        "id": "yrkX58Qb9meI",
        "outputId": "54a1b0d1-9a0e-41a5-f837-b6874d16da6e"
      },
      "execution_count": 84,
      "outputs": [
        {
          "output_type": "execute_result",
          "data": {
            "text/plain": [
              "tensor([[0.3563, 0.0303, 0.7088],\n",
              "        [0.2009, 0.0224, 0.9896]], device='cuda:0')"
            ]
          },
          "metadata": {},
          "execution_count": 84
        }
      ]
    },
    {
      "cell_type": "code",
      "source": [
        "# moving an existing tensor to GPU\n",
        "a"
      ],
      "metadata": {
        "colab": {
          "base_uri": "https://localhost:8080/"
        },
        "id": "lYhrB92P9yL2",
        "outputId": "50f41b73-007f-4e61-cbf2-1af7ca8f4bd9"
      },
      "execution_count": 86,
      "outputs": [
        {
          "output_type": "execute_result",
          "data": {
            "text/plain": [
              "tensor([[10.0000,  0.7668,  0.1659],\n",
              "        [ 0.4393,  0.2243,  0.8935]])"
            ]
          },
          "metadata": {},
          "execution_count": 86
        }
      ]
    },
    {
      "cell_type": "code",
      "source": [
        "b = a.to(device)"
      ],
      "metadata": {
        "id": "0872tID992ff"
      },
      "execution_count": 88,
      "outputs": []
    },
    {
      "cell_type": "code",
      "source": [
        "b"
      ],
      "metadata": {
        "colab": {
          "base_uri": "https://localhost:8080/"
        },
        "id": "HWGYJjNs-GR0",
        "outputId": "5e8a5df0-7824-4bea-c056-22e73058969f"
      },
      "execution_count": 89,
      "outputs": [
        {
          "output_type": "execute_result",
          "data": {
            "text/plain": [
              "tensor([[10.0000,  0.7668,  0.1659],\n",
              "        [ 0.4393,  0.2243,  0.8935]], device='cuda:0')"
            ]
          },
          "metadata": {},
          "execution_count": 89
        }
      ]
    },
    {
      "cell_type": "code",
      "source": [
        "import time\n",
        "# Define size of the matrices\n",
        "size = 1000 #large size for performance comparision\n",
        "\n",
        "\n",
        "# Create random matrices on CPU\n",
        "matrix_a = torch.rand(size, size)\n",
        "matrix_b = torch.rand(size, size)\n",
        "\n",
        "# Measure time taken to perform matrix multiplication on CPU\n",
        "start_time = time.time()\n",
        "result_cpu = torch.matmul(matrix_a, matrix_b) # matrix multiplication on CPU\n",
        "end_time = time.time()\n",
        "time_taken_cpu = end_time - start_time\n",
        "\n",
        "print(f\"Time on CPU: {time_taken_cpu:.4f} seconds\")\n",
        "\n",
        "# Move matrices to GPU\n",
        "matrix_a = matrix_a.to('cuda')\n",
        "matrix_b = matrix_b.to('cuda')\n",
        "\n",
        "# Measure time on GPU\n",
        "start_time = time.time()\n",
        "result_gpu = torch.matmul(matrix_a, matrix_b) # matrix multiplication on GPU\n",
        "torch.cuda.synchronize()  # Wait for the GPU operation to complete\n",
        "end_time = time.time()\n",
        "time_taken_gpu = end_time - start_time\n",
        "print(f\"Time on GPU: {time_taken_gpu:.4f} seconds\")\n",
        "\n",
        "# compare Result\n",
        "print(\"\\n Speedup (CPU time / GPU time) : \", time_taken_cpu/time_taken_gpu)"
      ],
      "metadata": {
        "colab": {
          "base_uri": "https://localhost:8080/"
        },
        "id": "svBL_de3-Pgd",
        "outputId": "4a99d12f-3c27-4a34-bac3-2acacce6c08c"
      },
      "execution_count": 95,
      "outputs": [
        {
          "output_type": "stream",
          "name": "stdout",
          "text": [
            "Time on CPU: 0.0309 seconds\n",
            "Time on GPU: 0.0011 seconds\n",
            "\n",
            " Speedup (CPU time / GPU time) :  27.738105443634804\n"
          ]
        }
      ]
    },
    {
      "cell_type": "markdown",
      "source": [
        "Reshaping Tensors"
      ],
      "metadata": {
        "id": "0iHBK-xNAoOK"
      }
    },
    {
      "cell_type": "code",
      "source": [
        "a = torch.ones(4,4)\n",
        "a"
      ],
      "metadata": {
        "colab": {
          "base_uri": "https://localhost:8080/"
        },
        "id": "JrvHrvwhAreB",
        "outputId": "706f20b4-0ad6-47de-84c0-eee4277e0794"
      },
      "execution_count": 96,
      "outputs": [
        {
          "output_type": "execute_result",
          "data": {
            "text/plain": [
              "tensor([[1., 1., 1., 1.],\n",
              "        [1., 1., 1., 1.],\n",
              "        [1., 1., 1., 1.],\n",
              "        [1., 1., 1., 1.]])"
            ]
          },
          "metadata": {},
          "execution_count": 96
        }
      ]
    },
    {
      "cell_type": "code",
      "source": [
        "# reshape\n",
        "a.reshape(2,2,2,2)"
      ],
      "metadata": {
        "colab": {
          "base_uri": "https://localhost:8080/"
        },
        "id": "HMDxkaTsAwSY",
        "outputId": "3f559d9e-2417-4322-e382-feaf11acdbc1"
      },
      "execution_count": 97,
      "outputs": [
        {
          "output_type": "execute_result",
          "data": {
            "text/plain": [
              "tensor([[[[1., 1.],\n",
              "          [1., 1.]],\n",
              "\n",
              "         [[1., 1.],\n",
              "          [1., 1.]]],\n",
              "\n",
              "\n",
              "        [[[1., 1.],\n",
              "          [1., 1.]],\n",
              "\n",
              "         [[1., 1.],\n",
              "          [1., 1.]]]])"
            ]
          },
          "metadata": {},
          "execution_count": 97
        }
      ]
    },
    {
      "cell_type": "code",
      "source": [
        "# flatten\n",
        "a.flatten()"
      ],
      "metadata": {
        "colab": {
          "base_uri": "https://localhost:8080/"
        },
        "id": "hgZMcIlXA7hP",
        "outputId": "1575b2ef-c5ef-4ede-be75-267b5f9bff07"
      },
      "execution_count": 98,
      "outputs": [
        {
          "output_type": "execute_result",
          "data": {
            "text/plain": [
              "tensor([1., 1., 1., 1., 1., 1., 1., 1., 1., 1., 1., 1., 1., 1., 1., 1.])"
            ]
          },
          "metadata": {},
          "execution_count": 98
        }
      ]
    },
    {
      "cell_type": "code",
      "source": [
        "b = torch.rand(2,3,4)\n",
        "b"
      ],
      "metadata": {
        "colab": {
          "base_uri": "https://localhost:8080/"
        },
        "id": "1R-ZTQa5BBRL",
        "outputId": "ab804d8d-9260-413a-890d-ce70ad866332"
      },
      "execution_count": 99,
      "outputs": [
        {
          "output_type": "execute_result",
          "data": {
            "text/plain": [
              "tensor([[[0.6858, 0.9301, 0.2309, 0.3430],\n",
              "         [0.4687, 0.9974, 0.3924, 0.7481],\n",
              "         [0.6762, 0.9614, 0.3290, 0.0964]],\n",
              "\n",
              "        [[0.8724, 0.8935, 0.1608, 0.0670],\n",
              "         [0.2026, 0.6516, 0.3711, 0.4893],\n",
              "         [0.8173, 0.9066, 0.5195, 0.1399]]])"
            ]
          },
          "metadata": {},
          "execution_count": 99
        }
      ]
    },
    {
      "cell_type": "code",
      "source": [
        "b.shape"
      ],
      "metadata": {
        "colab": {
          "base_uri": "https://localhost:8080/"
        },
        "id": "vpDRQlg2BEtR",
        "outputId": "170f2e0f-2cad-439b-c328-b3d74ce8ca38"
      },
      "execution_count": 100,
      "outputs": [
        {
          "output_type": "execute_result",
          "data": {
            "text/plain": [
              "torch.Size([2, 3, 4])"
            ]
          },
          "metadata": {},
          "execution_count": 100
        }
      ]
    },
    {
      "cell_type": "code",
      "source": [
        "c = b.permute(2,1,0)\n",
        "c"
      ],
      "metadata": {
        "colab": {
          "base_uri": "https://localhost:8080/"
        },
        "id": "EBy1CEHCBUh_",
        "outputId": "541641ec-9b87-40d9-ba66-c4617a1b2b0b"
      },
      "execution_count": 103,
      "outputs": [
        {
          "output_type": "execute_result",
          "data": {
            "text/plain": [
              "tensor([[[0.6858, 0.8724],\n",
              "         [0.4687, 0.2026],\n",
              "         [0.6762, 0.8173]],\n",
              "\n",
              "        [[0.9301, 0.8935],\n",
              "         [0.9974, 0.6516],\n",
              "         [0.9614, 0.9066]],\n",
              "\n",
              "        [[0.2309, 0.1608],\n",
              "         [0.3924, 0.3711],\n",
              "         [0.3290, 0.5195]],\n",
              "\n",
              "        [[0.3430, 0.0670],\n",
              "         [0.7481, 0.4893],\n",
              "         [0.0964, 0.1399]]])"
            ]
          },
          "metadata": {},
          "execution_count": 103
        }
      ]
    },
    {
      "cell_type": "code",
      "source": [
        "c.shape"
      ],
      "metadata": {
        "colab": {
          "base_uri": "https://localhost:8080/"
        },
        "id": "J1bNskXxBYa2",
        "outputId": "39740640-ab86-4689-ffb5-8b9a3b071227"
      },
      "execution_count": 104,
      "outputs": [
        {
          "output_type": "execute_result",
          "data": {
            "text/plain": [
              "torch.Size([4, 3, 2])"
            ]
          },
          "metadata": {},
          "execution_count": 104
        }
      ]
    },
    {
      "cell_type": "code",
      "source": [
        "# unsqueeze\n",
        "# image size\n",
        "c = torch.rand(226,226,3)\n",
        "print(c.shape)\n",
        "\n",
        "c.unsqueeze(0).shape # basically adding a dimension at given place"
      ],
      "metadata": {
        "colab": {
          "base_uri": "https://localhost:8080/"
        },
        "id": "Hcz0120aBfuc",
        "outputId": "7b664f2b-bef5-446a-ea01-2c6772ea7c3e"
      },
      "execution_count": 108,
      "outputs": [
        {
          "output_type": "stream",
          "name": "stdout",
          "text": [
            "torch.Size([226, 226, 3])\n"
          ]
        },
        {
          "output_type": "execute_result",
          "data": {
            "text/plain": [
              "torch.Size([1, 226, 226, 3])"
            ]
          },
          "metadata": {},
          "execution_count": 108
        }
      ]
    },
    {
      "cell_type": "code",
      "source": [
        "# squeeze\n",
        "d = torch.rand(1,20)\n",
        "d.squeeze(0).shape"
      ],
      "metadata": {
        "colab": {
          "base_uri": "https://localhost:8080/"
        },
        "id": "U8iYnMoRB2aZ",
        "outputId": "66a4093c-c1e4-42f0-e20a-50ab1e7cd09b"
      },
      "execution_count": 110,
      "outputs": [
        {
          "output_type": "execute_result",
          "data": {
            "text/plain": [
              "torch.Size([20])"
            ]
          },
          "metadata": {},
          "execution_count": 110
        }
      ]
    },
    {
      "cell_type": "markdown",
      "source": [
        "Numpy and Pytorch"
      ],
      "metadata": {
        "id": "R3qDdjtaCkQJ"
      }
    },
    {
      "cell_type": "code",
      "source": [
        "import numpy as np"
      ],
      "metadata": {
        "id": "sKKgWiFsCn1E"
      },
      "execution_count": 111,
      "outputs": []
    },
    {
      "cell_type": "code",
      "source": [
        "a = torch.tensor([1,2,3])\n",
        "a"
      ],
      "metadata": {
        "colab": {
          "base_uri": "https://localhost:8080/"
        },
        "id": "-Vk4ig6eCrMv",
        "outputId": "f33ad99d-1942-42b9-e288-abec6c8126d0"
      },
      "execution_count": 112,
      "outputs": [
        {
          "output_type": "execute_result",
          "data": {
            "text/plain": [
              "tensor([1, 2, 3])"
            ]
          },
          "metadata": {},
          "execution_count": 112
        }
      ]
    },
    {
      "cell_type": "code",
      "source": [
        "b = a.numpy()\n",
        "b"
      ],
      "metadata": {
        "colab": {
          "base_uri": "https://localhost:8080/"
        },
        "id": "vIA2SFOSCyuB",
        "outputId": "807f309d-fc89-491d-b09f-c936c584dfba"
      },
      "execution_count": 114,
      "outputs": [
        {
          "output_type": "execute_result",
          "data": {
            "text/plain": [
              "array([1, 2, 3])"
            ]
          },
          "metadata": {},
          "execution_count": 114
        }
      ]
    },
    {
      "cell_type": "code",
      "source": [
        "type(b)"
      ],
      "metadata": {
        "colab": {
          "base_uri": "https://localhost:8080/"
        },
        "id": "pCBGqy5kC49G",
        "outputId": "7a04f3e8-9cce-4df1-a244-afc24627eb6e"
      },
      "execution_count": 115,
      "outputs": [
        {
          "output_type": "execute_result",
          "data": {
            "text/plain": [
              "numpy.ndarray"
            ]
          },
          "metadata": {},
          "execution_count": 115
        }
      ]
    },
    {
      "cell_type": "code",
      "source": [
        "c = np.array([1,2,3])\n",
        "c"
      ],
      "metadata": {
        "colab": {
          "base_uri": "https://localhost:8080/"
        },
        "id": "PU4r1zMZC75b",
        "outputId": "412b8a53-8462-4cc8-a9dc-ffc61971a48a"
      },
      "execution_count": 118,
      "outputs": [
        {
          "output_type": "execute_result",
          "data": {
            "text/plain": [
              "array([1, 2, 3])"
            ]
          },
          "metadata": {},
          "execution_count": 118
        }
      ]
    },
    {
      "cell_type": "code",
      "source": [
        "torch.from_numpy(c)"
      ],
      "metadata": {
        "colab": {
          "base_uri": "https://localhost:8080/"
        },
        "id": "bDfagwTjDS-j",
        "outputId": "f160b73b-ff36-4a47-ff23-6d6d4f30e1e0"
      },
      "execution_count": 119,
      "outputs": [
        {
          "output_type": "execute_result",
          "data": {
            "text/plain": [
              "tensor([1, 2, 3])"
            ]
          },
          "metadata": {},
          "execution_count": 119
        }
      ]
    }
  ]
}